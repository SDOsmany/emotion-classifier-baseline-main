{
  "cells": [
    {
      "cell_type": "code",
      "execution_count": 1,
      "metadata": {
        "id": "XYzRO7w3ibiM"
      },
      "outputs": [],
      "source": [
        "import numpy as np\n",
        "import torch\n",
        "import torch.nn as nn\n",
        "import torch.nn.functional as F\n",
        "import torch.optim as optim\n",
        "from torch.utils.data import DataLoader\n",
        "import torchvision.transforms as transforms\n",
        "import torchvision\n",
        "import matplotlib.pyplot as plt\n"
      ]
    },
    {
      "cell_type": "code",
      "source": [
        "# !unzip archive.zip"
      ],
      "metadata": {
        "id": "0sZH7jfdngm6"
      },
      "execution_count": 2,
      "outputs": []
    },
    {
      "cell_type": "code",
      "execution_count": 3,
      "metadata": {
        "id": "QcYDBFHAibiO"
      },
      "outputs": [],
      "source": [
        "#Device Configuration\n",
        "device = torch.device('cuda' if torch.cuda.is_available() else 'cpu')"
      ]
    },
    {
      "cell_type": "code",
      "execution_count": 4,
      "metadata": {
        "colab": {
          "base_uri": "https://localhost:8080/"
        },
        "id": "IJYELVT5ibiO",
        "outputId": "45cc6813-622b-4f54-9082-aad10cc2abcc"
      },
      "outputs": [
        {
          "output_type": "stream",
          "name": "stdout",
          "text": [
            "cuda\n"
          ]
        }
      ],
      "source": [
        "print(device)"
      ]
    },
    {
      "cell_type": "markdown",
      "metadata": {
        "id": "emso3_HKibiO"
      },
      "source": [
        "Setup Hyper parameters for the model"
      ]
    },
    {
      "cell_type": "code",
      "execution_count": 5,
      "metadata": {
        "id": "hU7PCUiVibiO"
      },
      "outputs": [],
      "source": [
        "#Hyperparameters\n",
        "num_epochs = 5 # amount of times the model will see the data\n",
        "batch_size = 64 # amount of data to be processed at once\n",
        "learning_rate = 0.001 # gradient descent step size"
      ]
    },
    {
      "cell_type": "markdown",
      "metadata": {
        "id": "jGx8nh6ribiP"
      },
      "source": [
        "Load the data"
      ]
    },
    {
      "cell_type": "code",
      "execution_count": 6,
      "metadata": {
        "id": "0EfgCGW8ibiP"
      },
      "outputs": [],
      "source": [
        "#Transform image Data\n",
        "# transforms the data into a tensor and normilizes it\n",
        "# transform = transforms.Compose(\n",
        "#             [transforms.ToTensor(),\n",
        "#             transforms.Normalize((0.5, 0.5, 0.5), (0.5, 0.5, 0.5))]) \n",
        "''' normalizes the data to be between -1 and 1 \n",
        "    Color images have three channels (red, green, blue),therefore you need three parameters to normalize\n",
        "    each channel.The first tuple (0.5, 0.5, 0.5) is the mean for all three channels \n",
        "    and the second (0.5, 0.5, 0.5) is the standard deviation for all three channels.\n",
        "    if data value is 0 then when normalized we have:\n",
        "    (0 - 0.5(mean)) / 0.5(std) = -1\n",
        "    if data value is 1 then when normalized we have:\n",
        "    (1 - 0.5) / 0.5 = 1\n",
        "'''\n",
        "# We could also turn the data into grayscale images by using:\n",
        "# this will turn the values between 0 and 1\n",
        "# 0 = black and 1 = white and in between is a shade of gray\n",
        "transform = transforms.Compose(\n",
        "            [transforms.ToTensor(),\n",
        "            transforms.Grayscale(num_output_channels=1)]) \n",
        "labels = ['angry', 'disgust', 'fear', 'happy','neutral', 'sad', 'surprise']"
      ]
    },
    {
      "cell_type": "code",
      "execution_count": 7,
      "metadata": {
        "id": "Egerz1HLibiP"
      },
      "outputs": [],
      "source": [
        "#Load Data\n",
        "train_dataset = torchvision.datasets.ImageFolder(root='train', transform=transform)\n",
        "train_data_loader = DataLoader(train_dataset, batch_size=batch_size, shuffle=True)# pin_memory = True will copy the data to the GPU faster\n",
        "test_dataset = torchvision.datasets.ImageFolder(root='test', transform=transform)\n",
        "test_data_loader = DataLoader(test_dataset, batch_size=batch_size, shuffle=True) # pin_memory = True will copy the data to the GPU faster"
      ]
    },
    {
      "cell_type": "code",
      "execution_count": 8,
      "metadata": {
        "colab": {
          "base_uri": "https://localhost:8080/"
        },
        "id": "E6pRs5H0ibiP",
        "outputId": "cbd37743-b27c-403b-a7a5-2dbb3893e887"
      },
      "outputs": [
        {
          "output_type": "stream",
          "name": "stdout",
          "text": [
            "tensor([0, 4, 4, 4, 2, 2, 3, 3, 3, 2, 5, 4, 3, 5, 3, 2, 3, 5, 3, 5, 6, 3, 4, 5,\n",
            "        0, 5, 3, 3, 0, 5, 2, 3, 2, 5, 4, 6, 5, 0, 2, 0, 5, 2, 3, 3, 3, 3, 1, 3,\n",
            "        0, 5, 5, 5, 0, 0, 3, 3, 0, 3, 2, 5, 3, 3, 5, 4])\n"
          ]
        }
      ],
      "source": [
        "images, labels_as_nums = next(iter(train_data_loader))\n",
        "print(labels_as_nums)\n",
        "# first number in the shape is the batch size\n",
        "# second number in the shape is the number of channels\n",
        "# third number in the shape is the height of the image\n",
        "# fourth number in the shape is the width of the image"
      ]
    },
    {
      "cell_type": "code",
      "execution_count": 9,
      "metadata": {
        "id": "gm9n7RwaibiQ"
      },
      "outputs": [],
      "source": [
        "\n",
        "# the train_data_loader has 2 elements, the first element is the image data and the second element is the labels\n",
        "# the image data is a tensor of shape (batch_size, channels, height, width)\n",
        "# the labels are a tensor of shape (batch_size)\n",
        "# if we do images[0][0] we are getting the first image in the batch\n",
        "# if we do images[0] we are getting the whole batch of images\n",
        "# if we do images[1] we are getting the whole batch of labels\n"
      ]
    },
    {
      "cell_type": "code",
      "execution_count": 10,
      "metadata": {
        "colab": {
          "base_uri": "https://localhost:8080/",
          "height": 308
        },
        "id": "3f1nipQhibiQ",
        "outputId": "55386b61-43e6-4b00-8adf-fca25bf21858"
      },
      "outputs": [
        {
          "output_type": "display_data",
          "data": {
            "text/plain": [
              "<Figure size 720x360 with 10 Axes>"
            ],
            "image/png": "[encoded data removed]"
          },
          "metadata": {
            "needs_background": "light"
          }
        }
      ],
      "source": [
        "from matplotlib import image as mpimg\n",
        "\n",
        "subplots = plt.subplots(2, 5, figsize=(10, 5))\n",
        "# show the image\n",
        "for i in range(10):\n",
        "    plt.subplot(2, 5, i+1)\n",
        "    plt.imshow(images[i].squeeze(), cmap='gray')\n",
        "    plt.title(labels[labels_as_nums[i]])\n"
      ]
    },
    {
      "cell_type": "code",
      "execution_count": 11,
      "metadata": {
        "colab": {
          "base_uri": "https://localhost:8080/"
        },
        "id": "Vtww0FbSibiQ",
        "outputId": "2359c2a3-405a-48f9-9592-24ec62139b0a"
      },
      "outputs": [
        {
          "output_type": "stream",
          "name": "stdout",
          "text": [
            "Using device: cuda\n",
            "Number of training examples: 28709\n",
            "Number of test examples: 7178\n",
            "Batch size: 64\n",
            "Number of training batches: 449\n",
            "Number of test batches: 113\n",
            "Minimum pixel value: tensor(0.)\n",
            "Maximum pixel value: tensor(0.9999)\n"
          ]
        }
      ],
      "source": [
        "print('Using device:', device)\n",
        "# Print some basic information about the train and test datasets\n",
        "print('Number of training examples: {}'.format(len(train_dataset)))\n",
        "print('Number of test examples: {}'.format(len(test_dataset)))\n",
        "print('Batch size: {}'.format(batch_size))\n",
        "\n",
        "# Print some basic information about the train and test loaders\n",
        "print('Number of training batches: {}'.format(len(train_data_loader)))\n",
        "print('Number of test batches: {}'.format(len(test_data_loader)))\n",
        "\n",
        "# Check the range of the pixel values in the training images\n",
        "print(\"Minimum pixel value:\", torch.min(images))\n",
        "print(\"Maximum pixel value:\", torch.max(images))"
      ]
    },
    {
      "cell_type": "code",
      "execution_count": 12,
      "metadata": {
        "id": "8Ls9wyocibiQ"
      },
      "outputs": [],
      "source": [
        "# class Net(nn.Module):\n",
        "#     def __init__(self): \n",
        "#         super(Net, self).__init__()\n",
        "#         self.conv1 = nn.Conv2d(in_channels=1, out_channels=64, kernel_size=(3, 3), stride=1)  # the receptor field (kernel) is 3x3, stride=1, so each channel is of size 46x46x128 x = nn.BatchNorm2d(128),        \n",
        "#         # self.norm1 = nn.BatchNorm2d(64)\n",
        "#         self.conv2 = nn.Conv2d(in_channels=64, out_channels=64, kernel_size=(3, 3), stride=1) #kernel is 3x3, stride is 1, so output feature map is 42x42x128,        \n",
        "#         # self.norm2 = nn.BatchNorm2d(64)\n",
        "#         self.max_pool1 = nn.MaxPool2d(kernel_size=(2, 2), stride=(2, 2)) #new output will be 22x22x128,,        \n",
        "        \n",
        "#         self.conv3 = nn.Conv2d(in_channels=64, out_channels=128, kernel_size=(3, 3), stride=1) #the receptor field (kernel) is 3x3, stride=1, so each channel is of size 46x46x64?,        \n",
        "#         # self.norm3 = nn.BatchNorm2d(128)     \n",
        "#         self.conv4 = nn.Conv2d(in_channels=128, out_channels=128, kernel_size=(3, 3), stride=1) #kernel is 3x3, stride is 1, so output feature map is 64,        \n",
        "#         # self.norm4 = nn.BatchNorm2d(128)      \n",
        "#         self.max_pool2 = nn.MaxPool2d(kernel_size=(2, 2), stride=(2, 2)) #new output will be 9x9,,        \n",
        "        \n",
        "#         self.dropout1 = nn.Dropout(0.25)        \n",
        "#         self.dropout2 = nn.Dropout(0.5)        \n",
        "#         self.fc1 = nn.Linear(9*9*128, 128) #3*3*64=576,        \n",
        "#         self.norm5 = nn.BatchNorm1d(128)        \n",
        "#         self.fc2 = nn.Linear(128, 7) #we have seven classes\n"
      ]
    },
    {
      "cell_type": "code",
      "source": [
        "!pip install efficientnet_pytorch"
      ],
      "metadata": {
        "colab": {
          "base_uri": "https://localhost:8080/"
        },
        "id": "JTnmQbD8qGGr",
        "outputId": "31c5bce1-54d3-49e8-a3d5-ef905efa815d"
      },
      "execution_count": 18,
      "outputs": [
        {
          "output_type": "stream",
          "name": "stdout",
          "text": [
            "Looking in indexes: https://pypi.org/simple, https://us-python.pkg.dev/colab-wheels/public/simple/\n",
            "Collecting efficientnet_pytorch\n",
            "  Downloading efficientnet_pytorch-0.7.1.tar.gz (21 kB)\n",
            "  Preparing metadata (setup.py) ... \u001b[?25l\u001b[?25hdone\n",
            "Requirement already satisfied: torch in /usr/local/lib/python3.9/dist-packages (from efficientnet_pytorch) (1.13.1+cu116)\n",
            "Requirement already satisfied: typing-extensions in /usr/local/lib/python3.9/dist-packages (from torch->efficientnet_pytorch) (4.5.0)\n",
            "Building wheels for collected packages: efficientnet_pytorch\n",
            "  Building wheel for efficientnet_pytorch (setup.py) ... \u001b[?25l\u001b[?25hdone\n",
            "  Created wheel for efficientnet_pytorch: filename=efficientnet_pytorch-0.7.1-py3-none-any.whl size=16444 sha256=337f99d7805ee20d617f5b6d563ad420e1e25c9fe6b9333034474d591f72fed6\n",
            "  Stored in directory: /root/.cache/pip/wheels/29/16/24/752e89d88d333af39a288421e64d613b5f652918e39ef1f8e3\n",
            "Successfully built efficientnet_pytorch\n",
            "Installing collected packages: efficientnet_pytorch\n",
            "Successfully installed efficientnet_pytorch-0.7.1\n"
          ]
        }
      ]
    },
    {
      "cell_type": "code",
      "execution_count": 19,
      "metadata": {
        "id": "jXZYosYTibiQ"
      },
      "outputs": [],
      "source": [
        "from efficientnet_pytorch import EfficientNet\n",
        "class EfficientNetGray(nn.Module):\n",
        "    def __init__(self, num_classes=7):\n",
        "        super(EfficientNetGray, self).__init__()\n",
        "        self.backbone = EfficientNet.from_pretrained('efficientnet-b0')\n",
        "        in_features = self.backbone._fc.in_features\n",
        "        self.backbone._fc = nn.Linear(in_features, num_classes)\n",
        "\n",
        "    def forward(self, x):\n",
        "        # convert grayscale to RGB by replicating the grayscale channel\n",
        "        x = x.repeat(1, 3, 1, 1)\n",
        "        x = self.backbone(x)\n",
        "        return x"
      ]
    },
    {
      "cell_type": "code",
      "execution_count": 14,
      "metadata": {
        "id": "v-tJhV5XibiR"
      },
      "outputs": [],
      "source": [
        "def train(model: VGGNet, optimizer, loss_function,device,train_data_loader):\n",
        "    model.train() # tells python that the model is training\n",
        "\n",
        "    for idx, (images, labels) in enumerate(train_data_loader):\n",
        "        images, labels = images.to(device), labels.to(device)\n",
        "        # clear our gradients\n",
        "        optimizer.zero_grad()\n",
        "        # foward pass\n",
        "        output = model.forward(images)\n",
        "        # calculate loss\n",
        "        loss = loss_function(output, labels)\n",
        "        # calculate the gradients\n",
        "        loss.backward() # just calculates the gradients\n",
        "        optimizer.step() # updates the parameters\n",
        "        if idx % 25 == 0:\n",
        "            print(f\"loss = {loss}\")"
      ]
    },
    {
      "cell_type": "code",
      "execution_count": 15,
      "metadata": {
        "id": "MOrLz9KTibiR"
      },
      "outputs": [],
      "source": [
        "def test(model, device, test_loader):\n",
        "    model.eval() #tells torch we're evaluating (not training) the model\n",
        "    test_loss = 0 #store the test loss\n",
        "    correct = 0 #store the number of images the model got correct from the test set \n",
        "    with torch.no_grad(): #important, otherwise torch will calculate the gradients for backpropagation. \n",
        "        for data, target in test_loader: #iterate through each image in the test set\n",
        "            data, target = data.to(device), target.to(device)\n",
        "            output = model(data) #run the data through the model\n",
        "            test_loss += F.cross_entropy(output, target)  # sum up batch loss\n",
        "\n",
        "            pred = output.argmax(dim=1, keepdim=True)  # get the index of the predicted class\n",
        "            #print(f\"test pred: {pred.shape}\") #32x1\n",
        "            correct += pred.eq(target.view_as(pred)).sum().item()\n",
        "\n",
        "    test_loss /= len(test_loader.dataset)\n",
        "\n",
        "    print('\\nTest set: Average loss: {:.4f}, Accuracy: {}/{} ({:.0f}%)\\n'.format(\n",
        "        test_loss, correct, len(test_loader.dataset),\n",
        "        100. * correct / len(test_loader.dataset)))"
      ]
    },
    {
      "cell_type": "code",
      "execution_count": 21,
      "metadata": {
        "colab": {
          "base_uri": "https://localhost:8080/",
          "height": 1000,
          "referenced_widgets": [
            "ca393cb93cfd484b87d754ebb3eb6875",
            "d7ba0def3fe64071a3ac9d98339eb140",
            "5ec4b8418e6340d195501d821796c0bf",
            "c4541eb39799403a82049f0e7714eedf",
            "09a9c4aefd36470d94e8afcbce913568",
            "f30cd0a5fb4c4fef9d79dc5170fc2880",
            "f5127079da3845c0a7084ad6843267ec",
            "cfc2553fda6c4b30bf02885c0c9d9cbd",
            "742e5a221a044553afc9c38b3dbd995d",
            "0f839a9ab2c84c05b745b919edbefb21",
            "516c7e5eb9d94499b46c6e7e9fb5605c"
          ]
        },
        "id": "e_v94xazibiR",
        "outputId": "bdb68b8b-68e0-45b2-c242-1a651efe912a"
      },
      "outputs": [
        {
          "output_type": "stream",
          "name": "stderr",
          "text": [
            "Downloading: \"https://github.com/lukemelas/EfficientNet-PyTorch/releases/download/1.0/efficientnet-b0-355c32eb.pth\" to /root/.cache/torch/hub/checkpoints/efficientnet-b0-355c32eb.pth\n"
          ]
        },
        {
          "output_type": "display_data",
          "data": {
            "text/plain": [
              "  0%|          | 0.00/20.4M [00:00<?, ?B/s]"
            ],
            "application/vnd.jupyter.widget-view+json": {
              "version_major": 2,
              "version_minor": 0,
              "model_id": "ca393cb93cfd484b87d754ebb3eb6875"
            }
          },
          "metadata": {}
        },
        {
          "output_type": "stream",
          "name": "stdout",
          "text": [
            "Loaded pretrained weights for efficientnet-b0\n",
            "loss = 2.067187547683716\n",
            "loss = 1.6044775247573853\n",
            "loss = 1.532619595527649\n",
            "loss = 1.6309901475906372\n",
            "loss = 1.4749367237091064\n",
            "loss = 1.5085140466690063\n",
            "loss = 1.6143105030059814\n",
            "loss = 1.4160089492797852\n",
            "loss = 1.271676778793335\n",
            "loss = 1.3978474140167236\n",
            "loss = 1.3589690923690796\n",
            "loss = 1.2863622903823853\n",
            "loss = 0.9695239663124084\n",
            "loss = 1.235805869102478\n",
            "loss = 1.4628441333770752\n",
            "loss = 1.2284295558929443\n",
            "loss = 1.379544973373413\n",
            "loss = 1.1859909296035767\n",
            "\n",
            "Test set: Average loss: 0.0207, Accuracy: 3643/7178 (51%)\n",
            "\n",
            "loss = 1.1114574670791626\n",
            "loss = 1.1377793550491333\n",
            "loss = 0.8204818964004517\n",
            "loss = 1.0487735271453857\n",
            "loss = 1.1817721128463745\n",
            "loss = 1.0046674013137817\n",
            "loss = 1.0015310049057007\n",
            "loss = 1.3592406511306763\n",
            "loss = 1.1184073686599731\n",
            "loss = 1.0531792640686035\n",
            "loss = 1.1561388969421387\n",
            "loss = 1.126901626586914\n",
            "loss = 1.0278609991073608\n",
            "loss = 0.9954045414924622\n",
            "loss = 1.4101134538650513\n",
            "loss = 1.0242931842803955\n",
            "loss = 1.217871069908142\n",
            "loss = 1.0270730257034302\n",
            "\n",
            "Test set: Average loss: 0.0182, Accuracy: 4113/7178 (57%)\n",
            "\n",
            "loss = 1.132009506225586\n",
            "loss = 1.1525096893310547\n",
            "loss = 1.0956798791885376\n",
            "loss = 1.1440613269805908\n",
            "loss = 1.1501030921936035\n",
            "loss = 0.9035705924034119\n",
            "loss = 0.9601374268531799\n",
            "loss = 0.9890092611312866\n",
            "loss = 1.1156574487686157\n",
            "loss = 0.8028706312179565\n",
            "loss = 0.985795259475708\n",
            "loss = 0.9858155846595764\n",
            "loss = 1.0516748428344727\n",
            "loss = 0.9774699807167053\n",
            "loss = 1.2148144245147705\n",
            "loss = 0.8683546185493469\n",
            "loss = 1.2535114288330078\n",
            "loss = 1.011587381362915\n",
            "\n",
            "Test set: Average loss: 0.0186, Accuracy: 4237/7178 (59%)\n",
            "\n",
            "loss = 1.0531190633773804\n",
            "loss = 0.7498196363449097\n",
            "loss = 1.0345169305801392\n",
            "loss = 0.9471596479415894\n",
            "loss = 0.8028018474578857\n",
            "loss = 1.0805182456970215\n",
            "loss = 0.9495624899864197\n",
            "loss = 0.9341932535171509\n",
            "loss = 0.9614020586013794\n",
            "loss = 0.9915511012077332\n",
            "loss = 0.7500388026237488\n",
            "loss = 0.9039048552513123\n",
            "loss = 0.8209248185157776\n",
            "loss = 0.8710407018661499\n",
            "loss = 0.7384448051452637\n",
            "loss = 0.8964720368385315\n",
            "loss = 0.7415266036987305\n",
            "loss = 0.9652625322341919\n",
            "\n",
            "Test set: Average loss: 0.0174, Accuracy: 4330/7178 (60%)\n",
            "\n",
            "loss = 0.8051968812942505\n",
            "loss = 0.7813177108764648\n",
            "loss = 0.827627956867218\n",
            "loss = 0.6814584732055664\n",
            "loss = 0.7897712588310242\n",
            "loss = 0.8099278807640076\n",
            "loss = 0.954132080078125\n",
            "loss = 0.8513907790184021\n",
            "loss = 0.7454370260238647\n",
            "loss = 0.7236478924751282\n",
            "loss = 0.6711194515228271\n",
            "loss = 0.7001790404319763\n",
            "loss = 0.8822604417800903\n",
            "loss = 0.7799112796783447\n",
            "loss = 0.662358820438385\n",
            "loss = 0.7118608951568604\n",
            "loss = 0.8402141332626343\n",
            "loss = 0.857685923576355\n",
            "\n",
            "Test set: Average loss: 0.0186, Accuracy: 4215/7178 (59%)\n",
            "\n",
            "loss = 0.601305365562439\n",
            "loss = 0.35802140831947327\n",
            "loss = 0.9331774711608887\n",
            "loss = 0.704896867275238\n",
            "loss = 0.5914918184280396\n",
            "loss = 0.6144953370094299\n",
            "loss = 0.6162570118904114\n",
            "loss = 0.7186295986175537\n",
            "loss = 0.6204050183296204\n",
            "loss = 0.639062225818634\n",
            "loss = 0.7292519211769104\n",
            "loss = 0.7101017236709595\n",
            "loss = 0.6811736822128296\n",
            "loss = 0.8304066061973572\n",
            "loss = 0.7068972587585449\n",
            "loss = 0.7262910604476929\n",
            "loss = 0.6702080368995667\n",
            "loss = 0.5990692377090454\n",
            "\n",
            "Test set: Average loss: 0.0182, Accuracy: 4427/7178 (62%)\n",
            "\n",
            "loss = 0.5580950379371643\n",
            "loss = 0.6365096569061279\n",
            "loss = 1.0617748498916626\n",
            "loss = 0.528773307800293\n",
            "loss = 0.5410031080245972\n",
            "loss = 0.747755229473114\n",
            "loss = 0.665858268737793\n",
            "loss = 0.5271957516670227\n",
            "loss = 0.625283420085907\n",
            "loss = 0.38142266869544983\n",
            "loss = 0.8393243551254272\n",
            "loss = 0.7791923880577087\n",
            "loss = 0.743334174156189\n",
            "loss = 0.8182277679443359\n",
            "loss = 0.8601484894752502\n",
            "loss = 0.7329063415527344\n",
            "loss = 0.8043720722198486\n",
            "loss = 0.7981710433959961\n",
            "\n",
            "Test set: Average loss: 0.0190, Accuracy: 4421/7178 (62%)\n",
            "\n",
            "loss = 0.3802460730075836\n",
            "loss = 0.4850432872772217\n",
            "loss = 0.26980188488960266\n",
            "loss = 0.5239976644515991\n",
            "loss = 0.4019326865673065\n",
            "loss = 0.38154077529907227\n",
            "loss = 0.3783639967441559\n",
            "loss = 0.8701007962226868\n",
            "loss = 0.5895934104919434\n",
            "loss = 0.6224561929702759\n",
            "loss = 0.610374927520752\n",
            "loss = 0.3418770432472229\n",
            "loss = 0.4494102895259857\n",
            "loss = 0.5917768478393555\n",
            "loss = 0.6866850852966309\n",
            "loss = 0.6465734243392944\n",
            "loss = 0.7640609741210938\n",
            "loss = 0.7622218132019043\n",
            "\n",
            "Test set: Average loss: 0.0219, Accuracy: 4358/7178 (61%)\n",
            "\n",
            "loss = 0.5372239947319031\n",
            "loss = 0.3094401955604553\n",
            "loss = 0.32577887177467346\n",
            "loss = 0.43918275833129883\n",
            "loss = 0.4230496287345886\n",
            "loss = 0.37969496846199036\n",
            "loss = 0.4781677722930908\n",
            "loss = 0.6007543802261353\n",
            "loss = 0.47696542739868164\n",
            "loss = 0.5267305970191956\n",
            "loss = 0.669786810874939\n",
            "loss = 0.4815760552883148\n",
            "loss = 0.5981830358505249\n",
            "loss = 0.5014197826385498\n",
            "loss = 0.6648280024528503\n",
            "loss = 0.5743682384490967\n",
            "loss = 0.5032039284706116\n",
            "loss = 0.27930328249931335\n",
            "\n",
            "Test set: Average loss: 0.0203, Accuracy: 4439/7178 (62%)\n",
            "\n",
            "loss = 0.32796576619148254\n",
            "loss = 0.5317438840866089\n",
            "loss = 0.46355053782463074\n",
            "loss = 0.31260278820991516\n",
            "loss = 0.4847642481327057\n",
            "loss = 0.3809346556663513\n",
            "loss = 0.31279659271240234\n",
            "loss = 0.5258815288543701\n",
            "loss = 0.5204399228096008\n",
            "loss = 0.3405740261077881\n",
            "loss = 0.29163166880607605\n",
            "loss = 0.48061299324035645\n",
            "loss = 0.3804936110973358\n",
            "loss = 0.37490522861480713\n",
            "loss = 0.4843080937862396\n",
            "loss = 0.6020395755767822\n",
            "loss = 0.5413363575935364\n",
            "loss = 0.44016918540000916\n",
            "\n",
            "Test set: Average loss: 0.0226, Accuracy: 4316/7178 (60%)\n",
            "\n"
          ]
        }
      ],
      "source": [
        "device = torch.device('cuda' if torch.cuda.is_available() else 'cpu')\n",
        "model = EfficientNetGray().to(device=device)\n",
        "optimizer = optim.Adam(model.parameters(), lr=0.001)\n",
        "loss_function = nn.CrossEntropyLoss()\n",
        "epochs = 10\n",
        "\n",
        "for epoch in range(epochs):\n",
        "    train(model=model, optimizer=optimizer, loss_function=loss_function, device=device,train_data_loader=train_data_loader)\n",
        "    test(model=model, device=device, test_loader=test_data_loader)"
      ]
    },
    {
      "cell_type": "code",
      "source": [
        "torch.save(model.state_dict(), 'model_params.pth')"
      ],
      "metadata": {
        "id": "o7PpEjkFsPrE"
      },
      "execution_count": 22,
      "outputs": []
    },
    {
      "cell_type": "code",
      "source": [],
      "metadata": {
        "id": "n8vV6j16sedE"
      },
      "execution_count": null,
      "outputs": []
    }
  ],
  "metadata": {
    "kernelspec": {
      "display_name": "pytorch",
      "language": "python",
      "name": "python3"
    },
    "language_info": {
      "codemirror_mode": {
        "name": "ipython",
        "version": 3
      },
      "file_extension": ".py",
      "mimetype": "text/x-python",
      "name": "python",
      "nbconvert_exporter": "python",
      "pygments_lexer": "ipython3",
      "version": "3.9.12"
    },
    "orig_nbformat": 4,
    "colab": {
      "provenance": []
    },
    "accelerator": "GPU",
    "gpuClass": "standard",
    "widgets": {
      "application/vnd.jupyter.widget-state+json": {
        "ca393cb93cfd484b87d754ebb3eb6875": {
          "model_module": "@jupyter-widgets/controls",
          "model_name": "HBoxModel",
          "model_module_version": "1.5.0",
          "state": {
            "_dom_classes": [],
            "_model_module": "@jupyter-widgets/controls",
            "_model_module_version": "1.5.0",
            "_model_name": "HBoxModel",
            "_view_count": null,
            "_view_module": "@jupyter-widgets/controls",
            "_view_module_version": "1.5.0",
            "_view_name": "HBoxView",
            "box_style": "",
            "children": [
              "IPY_MODEL_d7ba0def3fe64071a3ac9d98339eb140",
              "IPY_MODEL_5ec4b8418e6340d195501d821796c0bf",
              "IPY_MODEL_c4541eb39799403a82049f0e7714eedf"
            ],
            "layout": "IPY_MODEL_09a9c4aefd36470d94e8afcbce913568"
          }
        },
        "d7ba0def3fe64071a3ac9d98339eb140": {
          "model_module": "@jupyter-widgets/controls",
          "model_name": "HTMLModel",
          "model_module_version": "1.5.0",
          "state": {
            "_dom_classes": [],
            "_model_module": "@jupyter-widgets/controls",
            "_model_module_version": "1.5.0",
            "_model_name": "HTMLModel",
            "_view_count": null,
            "_view_module": "@jupyter-widgets/controls",
            "_view_module_version": "1.5.0",
            "_view_name": "HTMLView",
            "description": "",
            "description_tooltip": null,
            "layout": "IPY_MODEL_f30cd0a5fb4c4fef9d79dc5170fc2880",
            "placeholder": "​",
            "style": "IPY_MODEL_f5127079da3845c0a7084ad6843267ec",
            "value": "100%"
          }
        },
        "5ec4b8418e6340d195501d821796c0bf": {
          "model_module": "@jupyter-widgets/controls",
          "model_name": "FloatProgressModel",
          "model_module_version": "1.5.0",
          "state": {
            "_dom_classes": [],
            "_model_module": "@jupyter-widgets/controls",
            "_model_module_version": "1.5.0",
            "_model_name": "FloatProgressModel",
            "_view_count": null,
            "_view_module": "@jupyter-widgets/controls",
            "_view_module_version": "1.5.0",
            "_view_name": "ProgressView",
            "bar_style": "success",
            "description": "",
            "description_tooltip": null,
            "layout": "IPY_MODEL_cfc2553fda6c4b30bf02885c0c9d9cbd",
            "max": 21388428,
            "min": 0,
            "orientation": "horizontal",
            "style": "IPY_MODEL_742e5a221a044553afc9c38b3dbd995d",
            "value": 21388428
          }
        },
        "c4541eb39799403a82049f0e7714eedf": {
          "model_module": "@jupyter-widgets/controls",
          "model_name": "HTMLModel",
          "model_module_version": "1.5.0",
          "state": {
            "_dom_classes": [],
            "_model_module": "@jupyter-widgets/controls",
            "_model_module_version": "1.5.0",
            "_model_name": "HTMLModel",
            "_view_count": null,
            "_view_module": "@jupyter-widgets/controls",
            "_view_module_version": "1.5.0",
            "_view_name": "HTMLView",
            "description": "",
            "description_tooltip": null,
            "layout": "IPY_MODEL_0f839a9ab2c84c05b745b919edbefb21",
            "placeholder": "​",
            "style": "IPY_MODEL_516c7e5eb9d94499b46c6e7e9fb5605c",
            "value": " 20.4M/20.4M [00:00&lt;00:00, 56.9MB/s]"
          }
        },
        "09a9c4aefd36470d94e8afcbce913568": {
          "model_module": "@jupyter-widgets/base",
          "model_name": "LayoutModel",
          "model_module_version": "1.2.0",
          "state": {
            "_model_module": "@jupyter-widgets/base",
            "_model_module_version": "1.2.0",
            "_model_name": "LayoutModel",
            "_view_count": null,
            "_view_module": "@jupyter-widgets/base",
            "_view_module_version": "1.2.0",
            "_view_name": "LayoutView",
            "align_content": null,
            "align_items": null,
            "align_self": null,
            "border": null,
            "bottom": null,
            "display": null,
            "flex": null,
            "flex_flow": null,
            "grid_area": null,
            "grid_auto_columns": null,
            "grid_auto_flow": null,
            "grid_auto_rows": null,
            "grid_column": null,
            "grid_gap": null,
            "grid_row": null,
            "grid_template_areas": null,
            "grid_template_columns": null,
            "grid_template_rows": null,
            "height": null,
            "justify_content": null,
            "justify_items": null,
            "left": null,
            "margin": null,
            "max_height": null,
            "max_width": null,
            "min_height": null,
            "min_width": null,
            "object_fit": null,
            "object_position": null,
            "order": null,
            "overflow": null,
            "overflow_x": null,
            "overflow_y": null,
            "padding": null,
            "right": null,
            "top": null,
            "visibility": null,
            "width": null
          }
        },
        "f30cd0a5fb4c4fef9d79dc5170fc2880": {
          "model_module": "@jupyter-widgets/base",
          "model_name": "LayoutModel",
          "model_module_version": "1.2.0",
          "state": {
            "_model_module": "@jupyter-widgets/base",
            "_model_module_version": "1.2.0",
            "_model_name": "LayoutModel",
            "_view_count": null,
            "_view_module": "@jupyter-widgets/base",
            "_view_module_version": "1.2.0",
            "_view_name": "LayoutView",
            "align_content": null,
            "align_items": null,
            "align_self": null,
            "border": null,
            "bottom": null,
            "display": null,
            "flex": null,
            "flex_flow": null,
            "grid_area": null,
            "grid_auto_columns": null,
            "grid_auto_flow": null,
            "grid_auto_rows": null,
            "grid_column": null,
            "grid_gap": null,
            "grid_row": null,
            "grid_template_areas": null,
            "grid_template_columns": null,
            "grid_template_rows": null,
            "height": null,
            "justify_content": null,
            "justify_items": null,
            "left": null,
            "margin": null,
            "max_height": null,
            "max_width": null,
            "min_height": null,
            "min_width": null,
            "object_fit": null,
            "object_position": null,
            "order": null,
            "overflow": null,
            "overflow_x": null,
            "overflow_y": null,
            "padding": null,
            "right": null,
            "top": null,
            "visibility": null,
            "width": null
          }
        },
        "f5127079da3845c0a7084ad6843267ec": {
          "model_module": "@jupyter-widgets/controls",
          "model_name": "DescriptionStyleModel",
          "model_module_version": "1.5.0",
          "state": {
            "_model_module": "@jupyter-widgets/controls",
            "_model_module_version": "1.5.0",
            "_model_name": "DescriptionStyleModel",
            "_view_count": null,
            "_view_module": "@jupyter-widgets/base",
            "_view_module_version": "1.2.0",
            "_view_name": "StyleView",
            "description_width": ""
          }
        },
        "cfc2553fda6c4b30bf02885c0c9d9cbd": {
          "model_module": "@jupyter-widgets/base",
          "model_name": "LayoutModel",
          "model_module_version": "1.2.0",
          "state": {
            "_model_module": "@jupyter-widgets/base",
            "_model_module_version": "1.2.0",
            "_model_name": "LayoutModel",
            "_view_count": null,
            "_view_module": "@jupyter-widgets/base",
            "_view_module_version": "1.2.0",
            "_view_name": "LayoutView",
            "align_content": null,
            "align_items": null,
            "align_self": null,
            "border": null,
            "bottom": null,
            "display": null,
            "flex": null,
            "flex_flow": null,
            "grid_area": null,
            "grid_auto_columns": null,
            "grid_auto_flow": null,
            "grid_auto_rows": null,
            "grid_column": null,
            "grid_gap": null,
            "grid_row": null,
            "grid_template_areas": null,
            "grid_template_columns": null,
            "grid_template_rows": null,
            "height": null,
            "justify_content": null,
            "justify_items": null,
            "left": null,
            "margin": null,
            "max_height": null,
            "max_width": null,
            "min_height": null,
            "min_width": null,
            "object_fit": null,
            "object_position": null,
            "order": null,
            "overflow": null,
            "overflow_x": null,
            "overflow_y": null,
            "padding": null,
            "right": null,
            "top": null,
            "visibility": null,
            "width": null
          }
        },
        "742e5a221a044553afc9c38b3dbd995d": {
          "model_module": "@jupyter-widgets/controls",
          "model_name": "ProgressStyleModel",
          "model_module_version": "1.5.0",
          "state": {
            "_model_module": "@jupyter-widgets/controls",
            "_model_module_version": "1.5.0",
            "_model_name": "ProgressStyleModel",
            "_view_count": null,
            "_view_module": "@jupyter-widgets/base",
            "_view_module_version": "1.2.0",
            "_view_name": "StyleView",
            "bar_color": null,
            "description_width": ""
          }
        },
        "0f839a9ab2c84c05b745b919edbefb21": {
          "model_module": "@jupyter-widgets/base",
          "model_name": "LayoutModel",
          "model_module_version": "1.2.0",
          "state": {
            "_model_module": "@jupyter-widgets/base",
            "_model_module_version": "1.2.0",
            "_model_name": "LayoutModel",
            "_view_count": null,
            "_view_module": "@jupyter-widgets/base",
            "_view_module_version": "1.2.0",
            "_view_name": "LayoutView",
            "align_content": null,
            "align_items": null,
            "align_self": null,
            "border": null,
            "bottom": null,
            "display": null,
            "flex": null,
            "flex_flow": null,
            "grid_area": null,
            "grid_auto_columns": null,
            "grid_auto_flow": null,
            "grid_auto_rows": null,
            "grid_column": null,
            "grid_gap": null,
            "grid_row": null,
            "grid_template_areas": null,
            "grid_template_columns": null,
            "grid_template_rows": null,
            "height": null,
            "justify_content": null,
            "justify_items": null,
            "left": null,
            "margin": null,
            "max_height": null,
            "max_width": null,
            "min_height": null,
            "min_width": null,
            "object_fit": null,
            "object_position": null,
            "order": null,
            "overflow": null,
            "overflow_x": null,
            "overflow_y": null,
            "padding": null,
            "right": null,
            "top": null,
            "visibility": null,
            "width": null
          }
        },
        "516c7e5eb9d94499b46c6e7e9fb5605c": {
          "model_module": "@jupyter-widgets/controls",
          "model_name": "DescriptionStyleModel",
          "model_module_version": "1.5.0",
          "state": {
            "_model_module": "@jupyter-widgets/controls",
            "_model_module_version": "1.5.0",
            "_model_name": "DescriptionStyleModel",
            "_view_count": null,
            "_view_module": "@jupyter-widgets/base",
            "_view_module_version": "1.2.0",
            "_view_name": "StyleView",
            "description_width": ""
          }
        }
      }
    }
  },
  "nbformat": 4,
  "nbformat_minor": 0
}