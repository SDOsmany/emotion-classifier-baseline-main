{
 "cells": [
  {
   "cell_type": "markdown",
   "id": "deef394d",
   "metadata": {},
   "source": [
    "### Import Packages"
   ]
  },
  {
   "cell_type": "code",
   "execution_count": 16,
   "id": "8d1d85ce",
   "metadata": {},
   "outputs": [],
   "source": [
    "import os\n",
    "import torch\n",
    "import torch.nn as nn\n",
    "import torch.nn.functional as F\n",
    "import torchvision.transforms as transforms\n",
    "import torchvision.datasets as datasets\n",
    "import torch.optim as optim\n",
    "import numpy as np\n",
    "import matplotlib.pyplot as plt\n",
    "from torch import flatten"
   ]
  },
  {
   "cell_type": "markdown",
   "id": "745787f0",
   "metadata": {},
   "source": [
    "### Load Dataset"
   ]
  },
  {
   "cell_type": "code",
   "execution_count": 17,
   "id": "3a0eeb04",
   "metadata": {},
   "outputs": [
    {
     "name": "stdout",
     "output_type": "stream",
     "text": [
      "c:\\Users\\osman\\OneDrive\\Documents\\Python Projects\\AI_Guild\\emotion-classifier-baseline-main\n",
      "c:\\Users\\osman\\OneDrive\\Documents\\Python Projects\\AI_Guild\\emotion-classifier-baseline-main\\emotion_dataset\\train\n"
     ]
    }
   ],
   "source": [
    "print(os.getcwd())\n",
    "print(os.path.join(os.getcwd(), \"emotion_dataset\", \"train\"))"
   ]
  },
  {
   "cell_type": "code",
   "execution_count": 18,
   "id": "bb851a96",
   "metadata": {},
   "outputs": [],
   "source": [
    "# transforms are used to convert your images into more usable data structures such as a tensor, which is basically an array\n",
    "# of numbers\n",
    "transformations = transforms.Compose([transforms.ToTensor(), transforms.Grayscale(num_output_channels=1)])\n",
    "\n",
    "# We will need the directories for where we have stored the images so we can load them in with ImageFolder\n",
    "train_dir = os.path.join(os.getcwd(), \"emotion_dataset\", \"train\")\n",
    "test_dir = os.path.join(os.getcwd(), \"emotion_dataset\", \"test\")\n",
    "\n",
    "# Now we load in our images using image folder\n",
    "# Note: ImageFolder only works if your files are stored in a certain order so train/classes so examples, train/angry, train/sad, etc.\n",
    "train_set = datasets.ImageFolder(root=train_dir, transform=transformations)\n",
    "test_set = datasets.ImageFolder(root=test_dir, transform=transformations)\n",
    "\n",
    "# Now we use a data loader to make our data iterable\n",
    "train_loader = torch.utils.data.DataLoader(train_set, batch_size=32, shuffle=True,pin_memory=True)\n",
    "test_loader = torch.utils.data.DataLoader(test_set, batch_size=32, shuffle=True,pin_memory=True)"
   ]
  },
  {
   "cell_type": "code",
   "execution_count": 19,
   "id": "7d15016e",
   "metadata": {},
   "outputs": [
    {
     "name": "stdout",
     "output_type": "stream",
     "text": [
      "[tensor([[[[0.0000, 0.0000, 0.0000,  ..., 0.0823, 0.0745, 0.0588],\n",
      "          [0.0000, 0.0000, 0.0000,  ..., 0.0588, 0.0823, 0.0627],\n",
      "          [0.0000, 0.0000, 0.0000,  ..., 0.0784, 0.0667, 0.0588],\n",
      "          ...,\n",
      "          [0.0000, 0.0196, 0.0000,  ..., 0.0157, 0.0157, 0.0314],\n",
      "          [0.0118, 0.0000, 0.0118,  ..., 0.1372, 0.0274, 0.0510],\n",
      "          [0.0157, 0.0078, 0.0000,  ..., 0.0667, 0.0078, 0.0588]]],\n",
      "\n",
      "\n",
      "        [[[0.4431, 0.4470, 0.4470,  ..., 0.1765, 0.0667, 0.1176],\n",
      "          [0.4431, 0.4431, 0.4353,  ..., 0.2117, 0.1372, 0.0941],\n",
      "          [0.4392, 0.4431, 0.4313,  ..., 0.1216, 0.1568, 0.1333],\n",
      "          ...,\n",
      "          [0.2510, 0.1294, 0.0745,  ..., 0.0823, 0.0941, 0.1020],\n",
      "          [0.2588, 0.2039, 0.1451,  ..., 0.0745, 0.0784, 0.0784],\n",
      "          [0.4196, 0.3843, 0.3137,  ..., 0.0823, 0.0706, 0.0627]]],\n",
      "\n",
      "\n",
      "        [[[0.5019, 0.5529, 0.6588,  ..., 0.7607, 0.7333, 0.7097],\n",
      "          [0.4000, 0.4588, 0.6274,  ..., 0.7568, 0.7254, 0.7529],\n",
      "          [0.3294, 0.3451, 0.4313,  ..., 0.7725, 0.7646, 0.7333],\n",
      "          ...,\n",
      "          [0.4235, 0.4196, 0.4313,  ..., 0.8078, 0.7960, 0.7646],\n",
      "          [0.4039, 0.3960, 0.4078,  ..., 0.7999, 0.7960, 0.7842],\n",
      "          [0.3764, 0.3725, 0.3647,  ..., 0.7999, 0.7803, 0.7607]]],\n",
      "\n",
      "\n",
      "        ...,\n",
      "\n",
      "\n",
      "        [[[0.2980, 0.3647, 0.4039,  ..., 0.5607, 0.5764, 0.5921],\n",
      "          [0.3764, 0.4156, 0.4156,  ..., 0.5529, 0.5725, 0.5882],\n",
      "          [0.3725, 0.3568, 0.3804,  ..., 0.5411, 0.5607, 0.5764],\n",
      "          ...,\n",
      "          [0.2862, 0.2549, 0.2470,  ..., 0.1804, 0.1843, 0.1882],\n",
      "          [0.3098, 0.2745, 0.2549,  ..., 0.1725, 0.1765, 0.1804],\n",
      "          [0.3333, 0.3019, 0.2627,  ..., 0.1608, 0.1686, 0.1765]]],\n",
      "\n",
      "\n",
      "        [[[0.2627, 0.2392, 0.2745,  ..., 0.2431, 0.4705, 0.9999],\n",
      "          [0.2470, 0.2470, 0.2745,  ..., 0.2235, 0.3647, 0.8313],\n",
      "          [0.2549, 0.2627, 0.2666,  ..., 0.2666, 0.2862, 0.5490],\n",
      "          ...,\n",
      "          [0.5098, 0.4862, 0.4823,  ..., 0.4196, 0.3882, 0.4509],\n",
      "          [0.5019, 0.4941, 0.4784,  ..., 0.4117, 0.3804, 0.4745],\n",
      "          [0.4745, 0.4784, 0.4745,  ..., 0.4196, 0.3647, 0.5019]]],\n",
      "\n",
      "\n",
      "        [[[0.8548, 0.5176, 0.1490,  ..., 0.7097, 0.8862, 0.9960],\n",
      "          [0.7999, 0.3333, 0.2196,  ..., 0.5686, 0.8509, 0.9764],\n",
      "          [0.7097, 0.2510, 0.3019,  ..., 0.3804, 0.7882, 0.9176],\n",
      "          ...,\n",
      "          [0.2706, 0.2627, 0.1804,  ..., 0.1843, 0.2745, 0.3294],\n",
      "          [0.3019, 0.2666, 0.1765,  ..., 0.1882, 0.2862, 0.3411],\n",
      "          [0.3294, 0.2588, 0.1686,  ..., 0.2117, 0.2823, 0.3372]]]]), tensor([5, 3, 2, 4, 6, 1, 6, 4, 2, 3, 3, 0, 2, 5, 3, 5, 0, 5, 0, 5, 6, 2, 5, 3,\n",
      "        2, 3, 4, 2, 3, 5, 2, 3])]\n"
     ]
    },
    {
     "data": {
      "text/plain": [
       "<matplotlib.image.AxesImage at 0x24a4ca4f8b0>"
      ]
     },
     "execution_count": 19,
     "metadata": {},
     "output_type": "execute_result"
    },
    {
     "data": {
      "image/png": "[encoded data removed]",
      "text/plain": [
       "<Figure size 640x480 with 1 Axes>"
      ]
     },
     "metadata": {},
     "output_type": "display_data"
    }
   ],
   "source": [
    "labels = ['angry', 'disgust', 'fear', 'happy','neutral', 'sad', 'surprise']\n",
    "count = 0\n",
    "x = []\n",
    "for i in train_loader:\n",
    "    x.append(i)\n",
    "    if count == 10: \n",
    "        break;\n",
    "    count += 1\n",
    "print(x[1])\n",
    "plt.imshow(x[0][0][0][0], cmap='gray')"
   ]
  },
  {
   "cell_type": "markdown",
   "id": "15a96c4f",
   "metadata": {},
   "source": [
    "### Create Architecture"
   ]
  },
  {
   "cell_type": "code",
   "execution_count": 20,
   "id": "686b04ef",
   "metadata": {},
   "outputs": [],
   "source": [
    "class Net(nn.Module): # Our Neural Network class inherents the nn.Module class\n",
    "    def __init__(self):\n",
    "        super().__init__()\n",
    "        # First 2d convolutional layer\n",
    "        self.conv1 = nn.Conv2d(in_channels=1, out_channels=32, kernel_size=3, stride=1) # --> 46*46*32\n",
    "        self.relu1 = nn.ReLU()\n",
    "        self.max1 = nn.MaxPool2d(kernel_size=2, stride=2) # 23*23*32\n",
    "        \n",
    "        # Second 2d convolutional layer\n",
    "        self.conv2 = nn.Conv2d(in_channels=32, out_channels=64, kernel_size=3, stride=1) # --> 21*21*64\n",
    "        self.relu2 = nn.ReLU()\n",
    "        self.max2 = nn.MaxPool2d(kernel_size=2, stride=2) # 10*10*64\n",
    "        \n",
    "        # Third 2d convolutional layer\n",
    "        self.conv3 = nn.Conv2d(in_channels=64, out_channels=128, kernel_size=3, stride=1) # --> 8*8*128\n",
    "        self.relu3 = nn.ReLU()\n",
    "        self.max3 = nn.MaxPool2d(kernel_size=2, stride=2) # 4*4*128 = 2048\n",
    "        \n",
    "        # Fully connected layers\n",
    "\n",
    "        self.fc1 = nn.Linear(2048, 256)\n",
    "        self.relu4 = nn.ReLU()\n",
    "        self.fc2 = nn.Linear(256, 7)\n",
    "\n",
    "\n",
    "    def foward(self, x): # Performs foward propagation\n",
    "        x = self.conv1(x)\n",
    "        x = self.relu1(x)\n",
    "        x = self.max1(x)\n",
    "\n",
    "        x = self.conv2(x)\n",
    "        x = self.relu2(x)\n",
    "        x = self.max2(x)\n",
    "\n",
    "        x = self.conv3(x)\n",
    "        x = self.relu3(x)\n",
    "        x = self.max3(x)\n",
    "\n",
    "        x = flatten(x, 1) # convert from 2-d to 1-d\n",
    "        x = self.fc1(x)\n",
    "        x = self.relu4(x)\n",
    "        x = self.fc2(x)\n",
    "\n",
    "        return x\n"
   ]
  },
  {
   "cell_type": "markdown",
   "id": "5b1f277f",
   "metadata": {},
   "source": [
    "### Train"
   ]
  },
  {
   "cell_type": "code",
   "execution_count": 30,
   "id": "fb4599d2",
   "metadata": {},
   "outputs": [],
   "source": [
    "def train(model: Net, optimizer, loss_function,device):\n",
    "    model.train() # tells python that the model is training\n",
    "\n",
    "    for idx, (images, labels) in enumerate(train_loader):\n",
    "        images, labels = images.to(device), labels.to(device)\n",
    "        # clear our gradients\n",
    "        optimizer.zero_grad()\n",
    "        # foward pass\n",
    "        output = model.foward(images)\n",
    "        # calculate loss\n",
    "        loss = loss_function(output, labels)\n",
    "        # calculate the gradients\n",
    "        loss.backward() # just calculates the gradients\n",
    "        optimizer.step() # updates the parameters\n",
    "        if idx % 25 == 0:\n",
    "            print(f\"loss = {loss}\")\n"
   ]
  },
  {
   "cell_type": "code",
   "execution_count": 34,
   "id": "21fda3e6",
   "metadata": {},
   "outputs": [
    {
     "name": "stdout",
     "output_type": "stream",
     "text": [
      "loss = 1.953257441520691\n",
      "loss = 1.7371035814285278\n",
      "loss = 1.7945306301116943\n",
      "loss = 1.7403911352157593\n",
      "loss = 1.8002928495407104\n",
      "loss = 1.696860432624817\n",
      "loss = 1.7773370742797852\n",
      "loss = 2.0518102645874023\n",
      "loss = 1.785746455192566\n",
      "loss = 1.7944859266281128\n",
      "loss = 1.8736984729766846\n",
      "loss = 1.678945541381836\n",
      "loss = 1.6092793941497803\n",
      "loss = 1.7308881282806396\n",
      "loss = 1.4821614027023315\n",
      "loss = 1.7512495517730713\n",
      "loss = 1.6416887044906616\n",
      "loss = 1.8118634223937988\n",
      "loss = 1.625670313835144\n",
      "loss = 1.7722015380859375\n",
      "loss = 1.4986680746078491\n",
      "loss = 1.624344825744629\n",
      "loss = 1.5231481790542603\n",
      "loss = 1.759404182434082\n",
      "loss = 1.4528580904006958\n",
      "loss = 1.3716238737106323\n",
      "loss = 1.7140169143676758\n",
      "loss = 1.4968160390853882\n",
      "loss = 1.4899828433990479\n",
      "loss = 1.3849570751190186\n",
      "loss = 1.5013267993927002\n",
      "loss = 1.6895908117294312\n",
      "loss = 1.5553853511810303\n",
      "loss = 1.5261098146438599\n",
      "loss = 1.415335774421692\n",
      "loss = 1.625714898109436\n"
     ]
    }
   ],
   "source": [
    "device = torch.device('cuda' if torch.cuda.is_available() else 'cpu')\n",
    "model = Net().to(device=device)\n",
    "optimizer = optim.Adam(model.parameters(), lr=0.001)\n",
    "loss_function = nn.CrossEntropyLoss()\n",
    "epochs = 1\n",
    "\n",
    "for epoch in range(epochs):\n",
    "    train(model=model, optimizer=optimizer, loss_function=loss_function, device=device)\n",
    "    test(model=model, device=device, test_loader=test_set)"
   ]
  },
  {
   "cell_type": "code",
   "execution_count": null,
   "id": "067c8885",
   "metadata": {},
   "outputs": [],
   "source": []
  }
 ],
 "metadata": {
  "kernelspec": {
   "display_name": "Python 3 (ipykernel)",
   "language": "python",
   "name": "python3"
  },
  "language_info": {
   "codemirror_mode": {
    "name": "ipython",
    "version": 3
   },
   "file_extension": ".py",
   "mimetype": "text/x-python",
   "name": "python",
   "nbconvert_exporter": "python",
   "pygments_lexer": "ipython3",
   "version": "3.9.12"
  }
 },
 "nbformat": 4,
 "nbformat_minor": 5
}
